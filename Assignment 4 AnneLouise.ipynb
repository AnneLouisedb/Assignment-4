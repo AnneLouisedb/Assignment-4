{
 "cells": [
  {
   "cell_type": "markdown",
   "metadata": {},
   "source": [
    "# Assignment 4\n",
    "AnneLouise de Boer\n",
    "## Average Distances in n-Dimensional Hypercubes\n",
    "\n",
    "Write a program that makes a graph with the number of dimensions on the horizontal axis using a logarithmic scale and the average distance between two points in an n-dimensional unit hypercube on the vertical axis. Your graph should be the result of generating a number of such pairs of points and averaging over the distances between them.\n",
    "\n",
    "reading: https://www.kaggle.com/residentmario/curse-of-dimensionality This source shows how the distance between two points increases as you move to higher dimensions. For example (0,0) and (1,1) etc.Points are further away from each other in high dimensional spaces, this is the curse of dimensionality. \n",
    "\n",
    "reading: https://martin-thoma.com/curse-of-dimensionality/"
   ]
  },
  {
   "cell_type": "markdown",
   "metadata": {},
   "source": [
    "- calculate the average distance of k uniformly random sampled points in [0,1]^n"
   ]
  },
  {
   "cell_type": "markdown",
   "metadata": {},
   "source": [
    "Reading on the curse of dimensionality: https://builtin.com/data-science/curse-dimensionality\n",
    "\n",
    "I want to give credit to this Github user. \n",
    "source: https://gist.github.com/BadreeshShetty/bf9cb1dced8263ef997bcb2c3926569b"
   ]
  },
  {
   "cell_type": "code",
   "execution_count": 5,
   "metadata": {},
   "outputs": [],
   "source": [
    "# Importing Libraries\n",
    "import numpy as np \n",
    "import pandas as pd \n",
    "import random,math \n",
    "import matplotlib.pyplot as plt"
   ]
  },
  {
   "cell_type": "markdown",
   "metadata": {},
   "source": [
    "Looking at dimensions in a range of 1 to 100000 with intervals of 10. "
   ]
  },
  {
   "cell_type": "code",
   "execution_count": 38,
   "metadata": {},
   "outputs": [],
   "source": [
    "# Dimensions in range of 1 to 100000 with interval of 10\n",
    "dimensions = range(1, 1000, 10)"
   ]
  },
  {
   "cell_type": "code",
   "execution_count": 56,
   "metadata": {},
   "outputs": [],
   "source": [
    "from scipy.spatial import distance\n",
    "\n",
    "# Making random numbers in range 0 to 1 from a uniform distribution with a given dimension\n",
    "#Suppose that we have n data points uniformally distributed inside the hypercube.\n",
    "def random_point_gen(dimension): \n",
    "    m = []\n",
    "    for i in range(dimension):\n",
    "        m.append(random.uniform(0, 1))\n",
    "    return m \n",
    "\n",
    "# Calculating the eudlidean distance between two coordinates \n",
    "def random_distances_comparison(dimension,number_pairs): \n",
    "     return [distance.euclidean(random_point_gen(dimension),random_point_gen(dimension)) \n",
    "             for _ in range(number_pairs)]   \n",
    "    \n",
    "#average distance, the sum divided by the length of the array of euclidean distances           \n",
    "def mean(x): \n",
    "     return sum(x) / len(x)"
   ]
  },
  {
   "cell_type": "code",
   "execution_count": 57,
   "metadata": {},
   "outputs": [
    {
     "name": "stdout",
     "output_type": "stream",
     "text": [
      "[0.2801110012773852, 0.38391385817201285, 0.23237241364208983]\n",
      "[0.9090254906794882, 0.9815284809562838, 0.02743450999572783, 0.48398734199837423]\n",
      "[0.5260666877565827, 0.7152238179249475, 0.7602095287637471, 0.6755845247828194, 0.6379529802231985, 0.5116173079817392, 0.3003007136105633, 0.44595477109023324, 0.38570559472185284, 0.5400245477492908]\n"
     ]
    }
   ],
   "source": [
    "#test random coordinates in 3 dimensions and 4 dimensions\n",
    "print(random_point_gen(3))\n",
    "print(random_point_gen(4))\n",
    "print(random_distances_comparison(3, 10)) #10 euclidean distances for 3 dimensional coordinates"
   ]
  },
  {
   "cell_type": "code",
   "execution_count": 58,
   "metadata": {},
   "outputs": [
    {
     "name": "stdout",
     "output_type": "stream",
     "text": [
      "1 0.3304377974569266\n",
      "11 1.3401740854448738\n",
      "21 1.8494625706998342\n",
      "31 2.2487295610797404\n",
      "41 2.6202602524132663\n",
      "51 2.91973469532458\n",
      "61 3.183914940287806\n",
      "71 3.434805652393278\n",
      "81 3.6826431561987985\n",
      "91 3.890026049978175\n",
      "101 4.102033469297674\n",
      "111 4.3006950280188\n",
      "121 4.4789574688837055\n",
      "131 4.6569193125841295\n",
      "141 4.84170968354576\n",
      "151 5.016737615045645\n",
      "161 5.1722480288779495\n",
      "171 5.341617534556972\n",
      "181 5.482410105951151\n",
      "191 5.640760079699207\n",
      "201 5.786641570271147\n",
      "211 5.920981165965469\n",
      "221 6.054163900861288\n",
      "231 6.19572144581478\n",
      "241 6.336261073257346\n",
      "251 6.466224354537698\n",
      "261 6.590635333390233\n",
      "271 6.711282760397099\n",
      "281 6.8357574085228245\n",
      "291 6.957750902317856\n",
      "301 7.0795729834533345\n",
      "311 7.199200195552326\n",
      "321 7.305734648783316\n",
      "331 7.4230662750429195\n",
      "341 7.522340445485527\n",
      "351 7.659774299500279\n",
      "361 7.746100205112718\n",
      "371 7.851900620006002\n",
      "381 7.9691780127116205\n",
      "391 8.074556540735285\n",
      "401 8.174458532846733\n",
      "411 8.282459688582135\n",
      "421 8.375312755707315\n",
      "431 8.473494413300168\n",
      "441 8.573592190150826\n",
      "451 8.662410241657089\n",
      "461 8.76024315471925\n",
      "471 8.864729732872727\n",
      "481 8.953957810972412\n",
      "491 9.041838718945614\n",
      "501 9.13983503938595\n",
      "511 9.229510873216372\n",
      "521 9.315850918803665\n",
      "531 9.389997153959165\n",
      "541 9.492934094917793\n",
      "551 9.57698852930013\n",
      "561 9.656049538222511\n",
      "571 9.744900643233633\n",
      "581 9.825614747882707\n",
      "591 9.916089246521462\n",
      "601 9.997415877875143\n",
      "611 10.08850678508909\n",
      "621 10.159735997186512\n",
      "631 10.261486441834144\n",
      "641 10.330292056883478\n",
      "651 10.400052103172216\n",
      "661 10.492201050985534\n",
      "671 10.563845394109132\n",
      "681 10.646235442214522\n",
      "691 10.735787005189911\n",
      "701 10.802705101307604\n",
      "711 10.89115723993526\n",
      "721 10.968426324205975\n",
      "731 11.035050895202222\n",
      "741 11.107122939745137\n",
      "751 11.197177042056564\n",
      "761 11.257139634361204\n",
      "771 11.344696311310173\n",
      "781 11.411126923711448\n",
      "791 11.481190182209266\n",
      "801 11.561742918405324\n",
      "811 11.61032748560487\n",
      "821 11.678375795541475\n",
      "831 11.776217392578873\n",
      "841 11.832428976948673\n",
      "851 11.904005270295933\n",
      "861 11.974887363079013\n",
      "871 12.0434324342436\n",
      "881 12.120397249656273\n",
      "891 12.170719552900689\n",
      "901 12.256882747443022\n",
      "911 12.320565630790895\n",
      "921 12.394725722594698\n",
      "931 12.449344427898572\n",
      "941 12.530480446251955\n",
      "951 12.583320582462418\n",
      "961 12.653792770865394\n",
      "971 12.714565984477732\n",
      "981 12.803509419220063\n",
      "991 12.865771467834481\n"
     ]
    }
   ],
   "source": [
    "avg_distances = [] \n",
    "\n",
    "dummy = np.empty((20,2)) \n",
    "dist = pd.DataFrame(dummy) \n",
    "dist.columns = [\"Dimension\",\"Avg_Distance\"] \n",
    " \n",
    "random.seed(34) \n",
    "i = 0 \n",
    "for dims in dimensions: \n",
    "    #averaging over 1000 observations per dimension (number_pairs)\n",
    "    distances = random_distances_comparison(dims, 1000)   \n",
    "    avg_distances.append(mean(distances))     \n",
    "     \n",
    "    dist.loc[i,\"Dimension\"] = dims \n",
    "    dist.loc[i,\"Avg_Distance\"] = mean(distances) \n",
    "   #for each dimension the average distance        \n",
    "    print(dims,mean(distances))\n",
    "    i = i+1"
   ]
  },
  {
   "cell_type": "code",
   "execution_count": 59,
   "metadata": {},
   "outputs": [
    {
     "name": "stderr",
     "output_type": "stream",
     "text": [
      "No handles with labels found to put in legend.\n"
     ]
    },
    {
     "data": {
      "image/png": "[encoded data removed]",
      "text/plain": [
       "<Figure size 432x288 with 1 Axes>"
      ]
     },
     "metadata": {
      "needs_background": "light"
     },
     "output_type": "display_data"
    }
   ],
   "source": [
    "plt.plot(dist[\"Dimension\"],dist[\"Avg_Distance\"])\n",
    "plt.title(\"Average distance between two points in n-dimension unit hypercube\")\n",
    "plt.xlabel('$dimension$')\n",
    "plt.xscale('log')\n",
    "plt.ylabel('average distance')\n",
    "plt.legend(loc='best') \n",
    "plt.show();"
   ]
  },
  {
   "cell_type": "markdown",
   "metadata": {},
   "source": [
    "More on the Robins constant: https://blogs.mathworks.com/cleve/2017/09/27/how-far-apart-are-two-random-points-in-a-hypercube/"
   ]
  },
  {
   "cell_type": "markdown",
   "metadata": {},
   "source": [
    "The average distance between two random points increases expontentially. Thus the higher the dimension, the more data is needed to counteract the curse of dimensionality."
   ]
  },
  {
   "cell_type": "code",
   "execution_count": null,
   "metadata": {},
   "outputs": [],
   "source": []
  }
 ],
 "metadata": {
  "kernelspec": {
   "display_name": "Python 3",
   "language": "python",
   "name": "python3"
  },
  "language_info": {
   "codemirror_mode": {
    "name": "ipython",
    "version": 3
   },
   "file_extension": ".py",
   "mimetype": "text/x-python",
   "name": "python",
   "nbconvert_exporter": "python",
   "pygments_lexer": "ipython3",
   "version": "3.8.3"
  }
 },
 "nbformat": 4,
 "nbformat_minor": 4
}
